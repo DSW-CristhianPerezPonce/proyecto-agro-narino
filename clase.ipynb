{
 "cells": [
  {
   "cell_type": "code",
   "execution_count": 1,
   "metadata": {},
   "outputs": [],
   "source": [
    "import pandas as pd\n",
    "import numpy as np\n",
    "import matplotlib.pyplot as plt"
   ]
  },
  {
   "cell_type": "code",
   "execution_count": 3,
   "metadata": {},
   "outputs": [],
   "source": [
    "#creando csv\n",
    "with open('weather_data.csv', 'w') as f:\n",
    "    f.write('day,temp,condition\\n')\n",
    "    f.write('Monday,12,Sunny\\n')\n",
    "    f.write('Tuesday,14,Rain\\n')\n",
    "    f.write('Wednesday,15,Rain\\n')\n",
    "    f.write('Thursday,14,Cloudy\\n')\n",
    "    f.write('Friday,21,Sunny\\n')\n",
    "    f.write('Saturday,22,Sunny\\n')\n",
    "    f.write('Sunday,24,Sunny\\n')\n"
   ]
  },
  {
   "cell_type": "code",
   "execution_count": 4,
   "metadata": {},
   "outputs": [
    {
     "name": "stdout",
     "output_type": "stream",
     "text": [
      "Contenido del CSV usando librería CSV:\n",
      "['day', 'temp', 'condition']\n",
      "['Monday', '12', 'Sunny']\n",
      "['Tuesday', '14', 'Rain']\n",
      "['Wednesday', '15', 'Rain']\n",
      "['Thursday', '14', 'Cloudy']\n",
      "['Friday', '21', 'Sunny']\n",
      "['Saturday', '22', 'Sunny']\n",
      "['Sunday', '24', 'Sunny']\n"
     ]
    }
   ],
   "source": [
    "import csv\n",
    "with open('weather_data.csv') as data_file:\n",
    "    # Se recorre el archivo y se crea un iterable en data\n",
    "    data = csv.reader(data_file)\n",
    "    print(\"Contenido del CSV usando librería CSV:\")\n",
    "    for row in data:\n",
    "        print(row)"
   ]
  },
  {
   "cell_type": "code",
   "execution_count": 5,
   "metadata": {},
   "outputs": [
    {
     "name": "stdout",
     "output_type": "stream",
     "text": [
      "\n",
      "Contenido del CSV usando Pandas:\n",
      "         day  temp condition\n",
      "0     Monday    12     Sunny\n",
      "1    Tuesday    14      Rain\n",
      "2  Wednesday    15      Rain\n",
      "3   Thursday    14    Cloudy\n",
      "4     Friday    21     Sunny\n",
      "5   Saturday    22     Sunny\n",
      "6     Sunday    24     Sunny\n"
     ]
    }
   ],
   "source": [
    "# Usando la librería pandas para leer el archivo\n",
    "print(\"\\nContenido del CSV usando Pandas:\")\n",
    "df_weather = pd.read_csv('weather_data.csv')\n",
    "print(df_weather) "
   ]
  },
  {
   "cell_type": "code",
   "execution_count": 6,
   "metadata": {},
   "outputs": [
    {
     "name": "stdout",
     "output_type": "stream",
     "text": [
      "\n",
      "Creando una Serie básica:\n",
      "0      Mark\n",
      "1    Justin\n",
      "2      John\n",
      "3     Vicky\n",
      "dtype: string\n"
     ]
    }
   ],
   "source": [
    "# con pandas queda mejor visualizado\n",
    "print(\"\\nCreando una Serie básica:\")\n",
    "s = pd.Series(['Mark', 'Justin', 'John', 'Vicky'], dtype='string')\n",
    "print(s)\n",
    "# Creando un indicides personalizados"
   ]
  },
  {
   "cell_type": "code",
   "execution_count": 7,
   "metadata": {},
   "outputs": [
    {
     "name": "stdout",
     "output_type": "stream",
     "text": [
      "\n",
      "Creando una Serie con índices personalizados:\n",
      "222      Mark\n",
      "333    Justin\n",
      "444      John\n",
      "555     Vicky\n",
      "dtype: string\n"
     ]
    }
   ],
   "source": [
    "# Creando una Serie con índices personalizados\n",
    "print(\"\\nCreando una Serie con índices personalizados:\")\n",
    "s = pd.Series(['Mark', 'Justin', 'John', 'Vicky'], index=[222, 333, 444, 555], dtype='string')\n",
    "print(s)"
   ]
  },
  {
   "cell_type": "code",
   "execution_count": 8,
   "metadata": {},
   "outputs": [
    {
     "name": "stdout",
     "output_type": "stream",
     "text": [
      "\n",
      "Ejemplo de Serie con notas de estudiantes:\n",
      "Juan          5.7\n",
      "Jennifer      8.5\n",
      "David         9.1\n",
      "Pablo         5.5\n",
      "Armando       8.2\n",
      "Magdalena     9.0\n",
      "Francesca    10.0\n",
      "Rosmery       7.0\n",
      "Vicente       7.7\n",
      "Martin        9.9\n",
      "dtype: float64\n"
     ]
    }
   ],
   "source": [
    "# Creando una Serie con un indices estudiantes\n",
    "print(\"\\nEjemplo de Serie con notas de estudiantes:\")\n",
    "notas = [5.7, 8.5, 9.1, 5.5, 8.2, 9.0, 10, 7.0, 7.7, 9.9]\n",
    "estudiantes = [\"Juan\", \"Jennifer\", \"David\", \"Pablo\", \"Armando\", \"Magdalena\", \"Francesca\", \"Rosmery\", \"Vicente\", \"Martin\"]\n",
    "calificaciones = pd.Series(notas, index=estudiantes)\n",
    "print(calificaciones)"
   ]
  },
  {
   "cell_type": "code",
   "execution_count": 9,
   "metadata": {},
   "outputs": [
    {
     "name": "stdout",
     "output_type": "stream",
     "text": [
      "\n",
      "Creando Series desde un diccionario:\n",
      "Matemáticas     8.0\n",
      "Programación    7.7\n",
      "Inglés          8.2\n",
      "dtype: float64\n"
     ]
    }
   ],
   "source": [
    "# Creando Series desde un diccionario\n",
    "print(\"\\nCreando Series desde un diccionario:\")\n",
    "new_dict = {\n",
    "    \"Matemáticas\": 8.0,\n",
    "    \"Programación\": 7.7,\n",
    "    \"Inglés\": 8.2\n",
    "}\n",
    "s_dict = pd.Series(new_dict)\n",
    "print(s_dict)\n"
   ]
  },
  {
   "cell_type": "markdown",
   "metadata": {},
   "source": [
    "La función range en Python genera una secuencia de números enteros. Es comúnmente utilizada en bucles for para iterar sobre un rango de valores.\n",
    "\n",
    "Sintaxis:\n",
    "Parámetros:\n",
    "start (opcional): El valor inicial de la secuencia (por defecto es 0).\n",
    "stop: El valor final de la secuencia (no incluido).\n",
    "step (opcional): El incremento entre cada número en la secuencia (por defecto es 1)."
   ]
  },
  {
   "cell_type": "code",
   "execution_count": 13,
   "metadata": {},
   "outputs": [
    {
     "name": "stdout",
     "output_type": "stream",
     "text": [
      "\n",
      "Creando Series desde range():\n",
      "1    10\n",
      "2    20\n",
      "3    30\n",
      "4    40\n",
      "5    50\n",
      "6    60\n",
      "7    70\n",
      "8    80\n",
      "9    90\n",
      "dtype: int64\n"
     ]
    }
   ],
   "source": [
    "# Usando range\n",
    "print(\"\\nCreando Series desde range():\")\n",
    "s_range = pd.Series(range(10,100,10), index=range(1,10))\n",
    "print(s_range)"
   ]
  },
  {
   "cell_type": "markdown",
   "metadata": {},
   "source": [
    "En Pandas, un valor escalar es un único valor constante que puede ser utilizado para crear una Serie o para realizar operaciones en un DataFrame o Serie."
   ]
  },
  {
   "cell_type": "code",
   "execution_count": 11,
   "metadata": {},
   "outputs": [
    {
     "name": "stdout",
     "output_type": "stream",
     "text": [
      "\n",
      "Creando Series desde un escalar:\n",
      "0    10\n",
      "1    10\n",
      "2    10\n",
      "3    10\n",
      "4    10\n",
      "5    10\n",
      "dtype: int64\n"
     ]
    }
   ],
   "source": [
    "# Desde un escalar (repetición del valor)\n",
    "print(\"\\nCreando Series desde un escalar:\")\n",
    "s_scalar = pd.Series(10, index=[0, 1, 2, 3, 4, 5])\n",
    "print(s_scalar)"
   ]
  },
  {
   "cell_type": "markdown",
   "metadata": {},
   "source": [
    "La función linspace de NumPy se utiliza para generar un conjunto de números equiespaciados dentro de un rango especificado. Es útil cuando necesitas dividir un intervalo en partes iguales.\n",
    "\n",
    "Sintaxis:\n",
    "Parámetros principales:\n",
    "start: El valor inicial del rango.\n",
    "stop: El valor final del rango.\n",
    "num: Número de valores a generar (por defecto es 50).\n",
    "endpoint: Si es True, incluye el valor final (stop) en el conjunto (por defecto es True).\n",
    "retstep: Si es True, devuelve también el tamaño del paso entre los valores generados.\n",
    "dtype: Tipo de dato de los valores generados."
   ]
  },
  {
   "cell_type": "code",
   "execution_count": 34,
   "metadata": {},
   "outputs": [
    {
     "name": "stdout",
     "output_type": "stream",
     "text": [
      "\n",
      "Creando Series con np.linspace:\n",
      "0     0.0\n",
      "1    20.0\n",
      "2    40.0\n",
      "3    60.0\n",
      "4    80.0\n",
      "dtype: float64\n"
     ]
    }
   ],
   "source": [
    "# Usando linspace de NumPy\n",
    "print(\"\\nCreando Series con np.linspace:\")\n",
    "s_linspace = pd.Series(np.linspace(0, 80,5))\n",
    "print(s_linspace)"
   ]
  },
  {
   "cell_type": "markdown",
   "metadata": {},
   "source": [
    "La list comprehension en Python es una forma concisa y eficiente de crear listas a partir de iterables, como listas, rangos o cualquier objeto iterable.\n",
    "\n",
    "Sintaxis:\n",
    "Componentes:\n",
    "expresion: La operación o valor que se agrega a la nueva lista.\n",
    "elemento: Cada elemento del iterable.\n",
    "iterable: La colección de datos que se recorre.\n",
    "condicion (opcional): Un filtro para incluir solo ciertos elementos.\n"
   ]
  },
  {
   "cell_type": "code",
   "execution_count": 14,
   "metadata": {},
   "outputs": [
    {
     "name": "stdout",
     "output_type": "stream",
     "text": [
      "\n",
      "Creando Series con list comprehension:\n",
      "a     1\n",
      "b     4\n",
      "c     7\n",
      "d    10\n",
      "e    13\n",
      "f    16\n",
      "g    19\n",
      "dtype: int64\n"
     ]
    }
   ],
   "source": [
    "# Usando list comprehension\n",
    "print(\"\\nCreando Series con list comprehension:\")\n",
    "s_comp = pd.Series(range(1, 20, 3), index=[x for x in 'abcdefg'])\n",
    "print(s_comp)\n"
   ]
  },
  {
   "cell_type": "markdown",
   "metadata": {},
   "source": [
    "#serie aleatorea"
   ]
  },
  {
   "cell_type": "code",
   "execution_count": null,
   "metadata": {},
   "outputs": [
    {
     "name": "stdout",
     "output_type": "stream",
     "text": [
      "\n",
      "Creando Series con random de NumPy:\n",
      "0    73\n",
      "1    76\n",
      "2     5\n",
      "3    85\n",
      "4    60\n",
      "5    60\n",
      "6    19\n",
      "7    85\n",
      "8    86\n",
      "9    66\n",
      "dtype: int32\n"
     ]
    }
   ],
   "source": [
    "# Usando el módulo random de NumPy\n",
    "print(\"\\nCreando Series con random de NumPy:\")\n",
    "s_random = pd.Series(np.random.randint(1, 100, size=10))\n",
    "print(s_random)\n"
   ]
  },
  {
   "cell_type": "markdown",
   "metadata": {},
   "source": [
    "#metodos y atribuetos de series"
   ]
  },
  {
   "cell_type": "code",
   "execution_count": null,
   "metadata": {},
   "outputs": [
    {
     "name": "stdout",
     "output_type": "stream",
     "text": [
      "\n",
      "Métodos y atributos de Series:\n",
      "Tamaño: 10\n",
      "Índice: RangeIndex(start=0, stop=10, step=1)\n",
      "Tipo de datos: int64\n",
      "Valores: [ 1  2  3  4  5  6  7  8  9 10]\n",
      "Nombre de la Serie: None\n",
      "Nombre del índice: None\n",
      "Número de dimensiones: 1\n",
      "Dimensiones: (10,)\n"
     ]
    }
   ],
   "source": [
    "## 6. Métodos y atributos de Series\n",
    "\n",
    "print(\"\\nMétodos y atributos de Series:\")\n",
    "s_demo = pd.Series([1, 2, 3, 4, 5, 6, 7, 8, 9, 10])\n",
    "\n",
    "# Atributos básicos\n",
    "print(\"Tamaño:\", s_demo.size)\n",
    "print(\"Índice:\", s_demo.index)\n",
    "print(\"Tipo de datos:\", s_demo.dtype)\n",
    "print(\"Valores:\", s_demo.values)\n",
    "print(\"Nombre de la Serie:\", s_demo.name)\n",
    "print(\"Nombre del índice:\", s_demo.index.name)\n",
    "print(\"Número de dimensiones:\", s_demo.ndim)    \n",
    "print(\"Dimensiones:\", s_demo.shape)\n"
   ]
  },
  {
   "cell_type": "markdown",
   "metadata": {},
   "source": [
    "# Operaciones Basicas"
   ]
  },
  {
   "cell_type": "code",
   "execution_count": 36,
   "metadata": {},
   "outputs": [
    {
     "name": "stdout",
     "output_type": "stream",
     "text": [
      "Conteo: 10\n",
      "Suma: 55\n",
      "Mínimo: 1\n",
      "Máximo: 10\n",
      "Media: 5.5\n",
      "Descripción completa:\n",
      "count    10.00000\n",
      "mean      5.50000\n",
      "std       3.02765\n",
      "min       1.00000\n",
      "25%       3.25000\n",
      "50%       5.50000\n",
      "75%       7.75000\n",
      "max      10.00000\n",
      "dtype: float64\n"
     ]
    }
   ],
   "source": [
    "\n",
    "# Métodos estadísticos\n",
    "print(\"Conteo:\", s_demo.count())\n",
    "print(\"Suma:\", s_demo.sum())\n",
    "print(\"Mínimo:\", s_demo.min())\n",
    "print(\"Máximo:\", s_demo.max())\n",
    "print(\"Media:\", s_demo.mean())\n",
    "print(\"Descripción completa:\")\n",
    "print(s_demo.describe())"
   ]
  },
  {
   "cell_type": "markdown",
   "metadata": {},
   "source": [
    "En Pandas, la multiplicación escalar se refiere a multiplicar todos los elementos de una Serie o un DataFrame por un valor escalar (un único número). Esto se aplica a cada elemento de la estructura de datos.\n",
    "\n",
    "Ejemplo con una Serie:"
   ]
  },
  {
   "cell_type": "code",
   "execution_count": 37,
   "metadata": {},
   "outputs": [
    {
     "name": "stdout",
     "output_type": "stream",
     "text": [
      "\n",
      "Operaciones con Series:\n",
      "Multiplicación por escalar:\n",
      "0     2\n",
      "1     4\n",
      "2     6\n",
      "3     8\n",
      "4    10\n",
      "5    12\n",
      "6    14\n",
      "7    16\n",
      "8    18\n",
      "9    20\n",
      "dtype: int64\n"
     ]
    }
   ],
   "source": [
    "## 7. Operaciones con Series\n",
    "\n",
    "print(\"\\nOperaciones con Series:\")\n",
    "\n",
    "# Multiplicar por un escalar\n",
    "print(\"Multiplicación por escalar:\")\n",
    "print(s_demo * 2)\n"
   ]
  },
  {
   "cell_type": "markdown",
   "metadata": {},
   "source": [
    "En Pandas, la operación módulo (%) se utiliza para calcular el residuo de la división de cada elemento de una Serie o DataFrame por un número escalar o por los elementos de otra estructura de datos compatible.\n",
    "\n"
   ]
  },
  {
   "cell_type": "code",
   "execution_count": 38,
   "metadata": {},
   "outputs": [
    {
     "name": "stdout",
     "output_type": "stream",
     "text": [
      "\n",
      "Operación módulo:\n",
      "0    1\n",
      "1    0\n",
      "2    1\n",
      "3    0\n",
      "4    1\n",
      "5    0\n",
      "6    1\n",
      "7    0\n",
      "8    1\n",
      "9    0\n",
      "dtype: int64\n"
     ]
    }
   ],
   "source": [
    "# Módulo\n",
    "print(\"\\nOperación módulo:\")\n",
    "print(s_demo % 2)\n"
   ]
  },
  {
   "cell_type": "markdown",
   "metadata": {},
   "source": [
    "operaciones con cadenas "
   ]
  },
  {
   "cell_type": "code",
   "execution_count": 39,
   "metadata": {},
   "outputs": [
    {
     "name": "stdout",
     "output_type": "stream",
     "text": [
      "\n",
      "Operaciones con cadenas:\n",
      "0    aaaaa\n",
      "1    bbbbb\n",
      "2    ccccc\n",
      "dtype: object\n"
     ]
    }
   ],
   "source": [
    "# Operaciones con cadenas\n",
    "print(\"\\nOperaciones con cadenas:\")\n",
    "s_str = pd.Series(['a', 'b', 'c'])\n",
    "print(s_str * 5)"
   ]
  },
  {
   "cell_type": "markdown",
   "metadata": {},
   "source": [
    "multipicación de dos series"
   ]
  },
  {
   "cell_type": "code",
   "execution_count": null,
   "metadata": {},
   "outputs": [
    {
     "name": "stdout",
     "output_type": "stream",
     "text": [
      "\n",
      "Operaciones entre Series:\n",
      "0    10\n",
      "1    16\n",
      "2    18\n",
      "dtype: int64\n"
     ]
    }
   ],
   "source": [
    "# Operaciones entre Series\n",
    "print(\"\\nOperaciones entre Series:\")\n",
    "s1 = pd.Series([2, 4, 6])\n",
    "s2 = pd.Series([5, 4, 3])\n",
    "print(s1 * s2)\n"
   ]
  },
  {
   "cell_type": "markdown",
   "metadata": {},
   "source": [
    "# aplicar las funciones a las series "
   ]
  },
  {
   "cell_type": "code",
   "execution_count": 41,
   "metadata": {},
   "outputs": [
    {
     "name": "stdout",
     "output_type": "stream",
     "text": [
      "\n",
      "Aplicar funciones a Series:\n",
      "Función cuadrado:\n",
      "0      1\n",
      "1      4\n",
      "2      9\n",
      "3     16\n",
      "4     25\n",
      "5     36\n",
      "6     49\n",
      "7     64\n",
      "8     81\n",
      "9    100\n",
      "dtype: int64\n"
     ]
    }
   ],
   "source": [
    "## 8. Aplicar funciones a Series\n",
    "\n",
    "print(\"\\nAplicar funciones a Series:\")\n",
    "\n",
    "# Aplicando función a una Serie numérica\n",
    "def cuadrado(x):\n",
    "    return x**2\n",
    "\n",
    "print(\"Función cuadrado:\")\n",
    "print(s_demo.apply(cuadrado))"
   ]
  },
  {
   "cell_type": "markdown",
   "metadata": {},
   "source": [
    "# Aplicando función a una Serie de texto\n"
   ]
  },
  {
   "cell_type": "code",
   "execution_count": 42,
   "metadata": {},
   "outputs": [
    {
     "name": "stdout",
     "output_type": "stream",
     "text": [
      "\n",
      "Función sobre texto:\n",
      "0    A\n",
      "1    B\n",
      "2    C\n",
      "dtype: object\n"
     ]
    }
   ],
   "source": [
    "# Aplicando función a una Serie de texto\n",
    "print(\"\\nFunción sobre texto:\")\n",
    "print(s_str.apply(str.upper))"
   ]
  },
  {
   "cell_type": "markdown",
   "metadata": {},
   "source": [
    "# filtar una serie\n"
   ]
  },
  {
   "cell_type": "code",
   "execution_count": 43,
   "metadata": {},
   "outputs": [
    {
     "name": "stdout",
     "output_type": "stream",
     "text": [
      "\n",
      "Filtrar una Serie:\n",
      "Serie original:\n",
      "Matemáticas     6.0\n",
      "Economía        4.5\n",
      "Programación    8.5\n",
      "dtype: float64\n",
      "\n",
      "Notas mayores a 5:\n",
      "Matemáticas     6.0\n",
      "Programación    8.5\n",
      "dtype: float64\n"
     ]
    }
   ],
   "source": [
    "print(\"\\nFiltrar una Serie:\")\n",
    "s_notas = pd.Series({'Matemáticas': 6.0, 'Economía': 4.5, 'Programación': 8.5})\n",
    "print(\"Serie original:\")\n",
    "print(s_notas)\n",
    "print(\"\\nNotas mayores a 5:\")\n",
    "print(s_notas[s_notas > 5])\n"
   ]
  },
  {
   "cell_type": "markdown",
   "metadata": {},
   "source": [
    "## 10. Ordenar una Serie"
   ]
  },
  {
   "cell_type": "code",
   "execution_count": null,
   "metadata": {},
   "outputs": [],
   "source": [
    "## 10. Ordenar una Serie\n",
    "\n",
    "print(\"\\nOrdenar una Serie:\")\n",
    "print(\"Ordenado por valores (ascendente):\")\n",
    "print(s_notas.sort_values())\n",
    "print(\"\\nOrdenado por índice (descendente):\")\n",
    "print(s_notas.sort_index(ascending=False))\n"
   ]
  },
  {
   "cell_type": "markdown",
   "metadata": {},
   "source": [
    "# eliminar los nulos "
   ]
  },
  {
   "cell_type": "code",
   "execution_count": 45,
   "metadata": {},
   "outputs": [
    {
     "name": "stdout",
     "output_type": "stream",
     "text": [
      "\n",
      "Eliminar datos nulos y desconocidos:\n",
      "Serie con valores nulos:\n",
      "0       a\n",
      "1       b\n",
      "2    None\n",
      "3       c\n",
      "4     NaN\n",
      "5       d\n",
      "dtype: object\n",
      "\n",
      "Serie después de eliminar nulos:\n",
      "0    a\n",
      "1    b\n",
      "3    c\n",
      "5    d\n",
      "dtype: object\n"
     ]
    }
   ],
   "source": [
    "## 11. Eliminar datos nulos y desconocidos\n",
    "\n",
    "print(\"\\nEliminar datos nulos y desconocidos:\")\n",
    "s_nulos = pd.Series(['a', 'b', None, 'c', np.nan, 'd'])\n",
    "print(\"Serie con valores nulos:\")\n",
    "print(s_nulos)\n",
    "print(\"\\nSerie después de eliminar nulos:\")\n",
    "print(s_nulos.dropna())\n"
   ]
  },
  {
   "cell_type": "markdown",
   "metadata": {},
   "source": [
    "# 12. DataFrame - Introducción\n",
    "\n",
    "# Un DataFrame es una estructura bidimensional (tabla)\n",
    "# Las columnas son Series, por lo que cada columna debe tener el mismo tipo de datos\n",
    "# Tiene dos índices: uno para filas y otro para columnas\n",
    "\n",
    "## 13. Creación de DataFrames\n",
    "\n",
    "# 13.1 DataFrame desde un diccionario de listas"
   ]
  },
  {
   "cell_type": "code",
   "execution_count": 46,
   "metadata": {},
   "outputs": [
    {
     "name": "stdout",
     "output_type": "stream",
     "text": [
      "\n",
      "DataFrame desde un diccionario de listas:\n",
      "    nombre  edad         grado             correo\n",
      "0    María    18      Economía    maria@gmail.com\n",
      "1     Luis    22      Medicina      luis@yahoo.es\n",
      "2   Carmen    20  Arquitectura   carmen@gmail.com\n",
      "3  Antonio    21      Economía  antonio@gmail.com\n"
     ]
    }
   ],
   "source": [
    "print(\"\\nDataFrame desde un diccionario de listas:\")\n",
    "datos = {\n",
    "    'nombre': ['María', 'Luis', 'Carmen', 'Antonio'],\n",
    "    'edad': [18, 22, 20, 21],\n",
    "    'grado': ['Economía', 'Medicina', 'Arquitectura', 'Economía'],\n",
    "    'correo': ['maria@gmail.com', 'luis@yahoo.es', 'carmen@gmail.com', 'antonio@gmail.com']\n",
    "}\n",
    "df_dict = pd.DataFrame(datos)\n",
    "print(df_dict)\n"
   ]
  },
  {
   "cell_type": "markdown",
   "metadata": {},
   "source": [
    "# 13.2 DataFrame desde una lista de listas\n"
   ]
  },
  {
   "cell_type": "code",
   "execution_count": 47,
   "metadata": {},
   "outputs": [
    {
     "name": "stdout",
     "output_type": "stream",
     "text": [
      "\n",
      "DataFrame desde una lista de listas:\n",
      "   Nombre  Edad             Email\n",
      "0   María    18   maria@gmail.com\n",
      "1    Luis    22    luis@gmail.com\n",
      "2  Carmen    20  carmen@gmail.com\n"
     ]
    }
   ],
   "source": [
    "print(\"\\nDataFrame desde una lista de listas:\")\n",
    "df_listas = pd.DataFrame([\n",
    "    ['María', 18, 'maria@gmail.com'], \n",
    "    ['Luis', 22, 'luis@gmail.com'], \n",
    "    ['Carmen', 20, 'carmen@gmail.com']\n",
    "], columns=['Nombre', 'Edad', 'Email'])\n",
    "print(df_listas)"
   ]
  },
  {
   "cell_type": "markdown",
   "metadata": {},
   "source": [
    "# 13.3 DataFrame desde una lista de diccionarios\n"
   ]
  },
  {
   "cell_type": "code",
   "execution_count": 49,
   "metadata": {},
   "outputs": [
    {
     "name": "stdout",
     "output_type": "stream",
     "text": [
      "\n",
      "DataFrame desde una lista de diccionarios:\n",
      "   Nombre  Edad\n",
      "0   María  18.0\n",
      "1    Luis  22.0\n",
      "2  Carmen   NaN\n"
     ]
    }
   ],
   "source": [
    "print(\"\\nDataFrame desde una lista de diccionarios:\")\n",
    "df_lista_dict = pd.DataFrame([\n",
    "    {'Nombre': 'María', 'Edad': 18}, \n",
    "    {'Nombre': 'Luis', 'Edad': 22},\n",
    "    {'Nombre': 'Carmen'}\n",
    "])\n",
    "print(df_lista_dict)\n"
   ]
  },
  {
   "cell_type": "markdown",
   "metadata": {},
   "source": [
    "# 13.4 DataFrame desde un Array NumPy\n",
    "\n"
   ]
  },
  {
   "cell_type": "code",
   "execution_count": 50,
   "metadata": {},
   "outputs": [
    {
     "name": "stdout",
     "output_type": "stream",
     "text": [
      "\n",
      "DataFrame desde un Array NumPy:\n",
      "   0  1  2  3  4\n",
      "0  1  2  3  4  5\n",
      "1  5  4  3  2  1\n"
     ]
    }
   ],
   "source": [
    "print(\"\\nDataFrame desde un Array NumPy:\")\n",
    "arr = np.array([1, 2, 3, 4, 5], dtype='int')\n",
    "df_array = pd.DataFrame((arr, [5, 4, 3, 2, 1]))\n",
    "print(df_array)"
   ]
  },
  {
   "cell_type": "markdown",
   "metadata": {},
   "source": [
    "# 13.5 DataFrame desde un archivo CSV\n",
    "\n"
   ]
  },
  {
   "cell_type": "code",
   "execution_count": 52,
   "metadata": {},
   "outputs": [
    {
     "name": "stdout",
     "output_type": "stream",
     "text": [
      "\n",
      "DataFrame desde un archivo CSV:\n",
      "         day  temp condition\n",
      "0     Monday    12     Sunny\n",
      "1    Tuesday    14      Rain\n",
      "2  Wednesday    15      Rain\n",
      "3   Thursday    14    Cloudy\n",
      "4     Friday    21     Sunny\n",
      "5   Saturday    22     Sunny\n",
      "6     Sunday    24     Sunny\n"
     ]
    }
   ],
   "source": [
    "print(\"\\nDataFrame desde un archivo CSV:\")\n",
    "df_csv = pd.read_csv('weather_data.csv')\n",
    "print(df_csv)"
   ]
  },
  {
   "cell_type": "markdown",
   "metadata": {},
   "source": [
    "# Atributos con dataframes"
   ]
  },
  {
   "cell_type": "code",
   "execution_count": 53,
   "metadata": {},
   "outputs": [
    {
     "name": "stdout",
     "output_type": "stream",
     "text": [
      "\n",
      "Atributos de DataFrames:\n",
      "Dimensiones (filas, columnas): (4, 4)\n",
      "Tipos de datos:\n",
      "nombre    object\n",
      "edad       int64\n",
      "grado     object\n",
      "correo    object\n",
      "dtype: object\n",
      "Primeras 3 filas:\n",
      "   nombre  edad         grado            correo\n",
      "0   María    18      Economía   maria@gmail.com\n",
      "1    Luis    22      Medicina     luis@yahoo.es\n",
      "2  Carmen    20  Arquitectura  carmen@gmail.com\n",
      "Últimas 2 filas:\n",
      "    nombre  edad         grado             correo\n",
      "2   Carmen    20  Arquitectura   carmen@gmail.com\n",
      "3  Antonio    21      Economía  antonio@gmail.com\n",
      "Información detallada del DataFrame:\n",
      "<class 'pandas.core.frame.DataFrame'>\n",
      "RangeIndex: 4 entries, 0 to 3\n",
      "Data columns (total 4 columns):\n",
      " #   Column  Non-Null Count  Dtype \n",
      "---  ------  --------------  ----- \n",
      " 0   nombre  4 non-null      object\n",
      " 1   edad    4 non-null      int64 \n",
      " 2   grado   4 non-null      object\n",
      " 3   correo  4 non-null      object\n",
      "dtypes: int64(1), object(3)\n",
      "memory usage: 260.0+ bytes\n",
      "Resumen estadístico:\n",
      "            edad\n",
      "count   4.000000\n",
      "mean   20.250000\n",
      "std     1.707825\n",
      "min    18.000000\n",
      "25%    19.500000\n",
      "50%    20.500000\n",
      "75%    21.250000\n",
      "max    22.000000\n"
     ]
    }
   ],
   "source": [
    "## 14. Atributos de DataFrames\n",
    "\n",
    "print(\"\\nAtributos de DataFrames:\")\n",
    "print(\"Dimensiones (filas, columnas):\", df_dict.shape)\n",
    "print(\"Tipos de datos:\")\n",
    "print(df_dict.dtypes)\n",
    "print(\"Primeras 3 filas:\")\n",
    "print(df_dict.head(3))\n",
    "print(\"Últimas 2 filas:\")\n",
    "print(df_dict.tail(2))\n",
    "print(\"Información detallada del DataFrame:\")\n",
    "df_dict.info()\n",
    "print(\"Resumen estadístico:\")\n",
    "print(df_dict.describe())\n"
   ]
  },
  {
   "cell_type": "markdown",
   "metadata": {},
   "source": [
    "## 15. Operaciones con columnas\n",
    "\n",
    "# Obteniendo una columna específica\n"
   ]
  },
  {
   "cell_type": "code",
   "execution_count": 54,
   "metadata": {},
   "outputs": [
    {
     "name": "stdout",
     "output_type": "stream",
     "text": [
      "\n",
      "Obteniendo una columna específica:\n",
      "0      María\n",
      "1       Luis\n",
      "2     Carmen\n",
      "3    Antonio\n",
      "Name: nombre, dtype: object\n"
     ]
    }
   ],
   "source": [
    "print(\"\\nObteniendo una columna específica:\")\n",
    "print(df_dict['nombre'])"
   ]
  },
  {
   "cell_type": "markdown",
   "metadata": {},
   "source": [
    "# Obteniendo varias columnas\n"
   ]
  },
  {
   "cell_type": "code",
   "execution_count": 55,
   "metadata": {},
   "outputs": [
    {
     "name": "stdout",
     "output_type": "stream",
     "text": [
      "\n",
      "Obteniendo varias columnas:\n",
      "    nombre  edad\n",
      "0    María    18\n",
      "1     Luis    22\n",
      "2   Carmen    20\n",
      "3  Antonio    21\n"
     ]
    }
   ],
   "source": [
    "print(\"\\nObteniendo varias columnas:\")\n",
    "print(df_dict[['nombre', 'edad']])"
   ]
  },
  {
   "cell_type": "markdown",
   "metadata": {},
   "source": [
    "# Calculando el promedio de una columna numérica\n"
   ]
  },
  {
   "cell_type": "code",
   "execution_count": 56,
   "metadata": {},
   "outputs": [
    {
     "name": "stdout",
     "output_type": "stream",
     "text": [
      "\n",
      "Promedio de la columna edad: 20.25\n"
     ]
    }
   ],
   "source": [
    "print(\"\\nPromedio de la columna edad:\", df_dict['edad'].mean())"
   ]
  },
  {
   "cell_type": "markdown",
   "metadata": {},
   "source": [
    "## 16. Creando un DataFrame específico\n",
    "\n"
   ]
  },
  {
   "cell_type": "code",
   "execution_count": 57,
   "metadata": {},
   "outputs": [
    {
     "name": "stdout",
     "output_type": "stream",
     "text": [
      "\n",
      "Creando un DataFrame de estudiantes y calificaciones:\n",
      "  Nombre  Matemáticas  Ciencias  Historia\n",
      "0    Ana           90        88        75\n",
      "1   Juan           85        92        80\n",
      "2  Pedro           70        75        85\n",
      "3  María           95        85        90\n",
      "4   Luis           80        95        92\n"
     ]
    }
   ],
   "source": [
    "print(\"\\nCreando un DataFrame de estudiantes y calificaciones:\")\n",
    "estudiantes_df = pd.DataFrame({\n",
    "    'Nombre': ['Ana', 'Juan', 'Pedro', 'María', 'Luis'],\n",
    "    'Matemáticas': [90, 85, 70, 95, 80],\n",
    "    'Ciencias': [88, 92, 75, 85, 95],\n",
    "    'Historia': [75, 80, 85, 90, 92]\n",
    "})\n",
    "print(estudiantes_df)"
   ]
  },
  {
   "cell_type": "markdown",
   "metadata": {},
   "source": [
    "# Calculando el promedio por estudiante\n"
   ]
  },
  {
   "cell_type": "code",
   "execution_count": 58,
   "metadata": {},
   "outputs": [
    {
     "name": "stdout",
     "output_type": "stream",
     "text": [
      "\n",
      "DataFrame con promedios:\n",
      "  Nombre  Matemáticas  Ciencias  Historia   Promedio\n",
      "0    Ana           90        88        75  84.333333\n",
      "1   Juan           85        92        80  85.666667\n",
      "2  Pedro           70        75        85  76.666667\n",
      "3  María           95        85        90  90.000000\n",
      "4   Luis           80        95        92  89.000000\n"
     ]
    }
   ],
   "source": [
    "estudiantes_df['Promedio'] = (estudiantes_df['Matemáticas'] + \n",
    "                              estudiantes_df['Ciencias'] + \n",
    "                              estudiantes_df['Historia']) / 3\n",
    "print(\"\\nDataFrame con promedios:\")\n",
    "print(estudiantes_df)"
   ]
  },
  {
   "cell_type": "code",
   "execution_count": null,
   "metadata": {},
   "outputs": [
    {
     "name": "stdout",
     "output_type": "stream",
     "text": [
      "  Nombre  Matemáticas  Ciencias  Historia   Promedio\n",
      "0    Ana           90        88        75  84.333333\n",
      "1   Juan           85        92        80  85.666667\n",
      "2  Pedro           70        75        85  76.666667\n",
      "3  María           95        85        90  90.000000\n",
      "4   Luis           80        95        92  89.000000\n"
     ]
    }
   ],
   "source": [
    "print(estudiantes_df)"
   ]
  },
  {
   "cell_type": "markdown",
   "metadata": {},
   "source": [
    "## 17. Cambiando nombres de columnas\n",
    "\n",
    "# Vamos a utilizar un conjunto de datos de ejemplo (simulando el archivo colesterol.csv)\n",
    "print(\"\\nCambiando nombres de columnas:\")\n",
    "colesterol_data = {\n",
    "    'nombre': ['Juan', 'María', 'Carlos', 'Ana', 'Pedro'],\n",
    "    'edad': [22, 45, 33, 27, 51],\n",
    "    'altura': [1.72, 1.65, 1.81, 1.70, 1.78],\n",
    "    'peso': [68, 59, 85, 63, 77],\n",
    "    'colesterol': [182, 200, 156, 175, 221]\n",
    "}\n",
    "df_colesterol = pd.DataFrame(colesterol_data)\n",
    "print(\"DataFrame original:\")\n",
    "print(df_colesterol)## 17. Cambiando nombres de columnas\n",
    "\n",
    "\n"
   ]
  },
  {
   "cell_type": "code",
   "execution_count": 59,
   "metadata": {},
   "outputs": [
    {
     "name": "stdout",
     "output_type": "stream",
     "text": [
      "\n",
      "Cambiando nombres de columnas:\n",
      "DataFrame original:\n",
      "   nombre  edad  altura  peso  colesterol\n",
      "0    Juan    22    1.72    68         182\n",
      "1   María    45    1.65    59         200\n",
      "2  Carlos    33    1.81    85         156\n",
      "3     Ana    27    1.70    63         175\n",
      "4   Pedro    51    1.78    77         221\n"
     ]
    }
   ],
   "source": [
    "print(\"\\nCambiando nombres de columnas:\")\n",
    "colesterol_data = {\n",
    "    'nombre': ['Juan', 'María', 'Carlos', 'Ana', 'Pedro'],\n",
    "    'edad': [22, 45, 33, 27, 51],\n",
    "    'altura': [1.72, 1.65, 1.81, 1.70, 1.78],\n",
    "    'peso': [68, 59, 85, 63, 77],\n",
    "    'colesterol': [182, 200, 156, 175, 221]\n",
    "}\n",
    "df_colesterol = pd.DataFrame(colesterol_data)\n",
    "print(\"DataFrame original:\")\n",
    "print(df_colesterol)## 17. Cambiando nombres de columnas"
   ]
  },
  {
   "cell_type": "markdown",
   "metadata": {},
   "source": [
    "# Renombrando columnas\n"
   ]
  },
  {
   "cell_type": "code",
   "execution_count": 61,
   "metadata": {},
   "outputs": [
    {
     "name": "stdout",
     "output_type": "stream",
     "text": [
      "\n",
      "DataFrame con columnas renombradas:\n",
      "  nombre y apellidos  edad  estatura  peso  colesterol\n",
      "0               Juan    22      1.72    68         182\n",
      "1              María    45      1.65    59         200\n",
      "2             Carlos    33      1.81    85         156\n",
      "3                Ana    27      1.70    63         175\n",
      "4              Pedro    51      1.78    77         221\n"
     ]
    }
   ],
   "source": [
    "df_renamed = df_colesterol.rename(columns={\n",
    "    'nombre': 'nombre y apellidos', \n",
    "    'altura': 'estatura'\n",
    "})\n",
    "print(\"\\nDataFrame con columnas renombradas:\")\n",
    "print(df_renamed)"
   ]
  },
  {
   "cell_type": "markdown",
   "metadata": {},
   "source": [
    "## 18. Cambiando el índice\n",
    "\n",
    "\n"
   ]
  },
  {
   "cell_type": "code",
   "execution_count": 62,
   "metadata": {},
   "outputs": [
    {
     "name": "stdout",
     "output_type": "stream",
     "text": [
      "\n",
      "Cambiando el índice del DataFrame:\n",
      "        edad  altura  peso  colesterol\n",
      "nombre                                \n",
      "Juan      22    1.72    68         182\n",
      "María     45    1.65    59         200\n",
      "Carlos    33    1.81    85         156\n",
      "Ana       27    1.70    63         175\n",
      "Pedro     51    1.78    77         221\n"
     ]
    }
   ],
   "source": [
    "print(\"\\nCambiando el índice del DataFrame:\")\n",
    "df_new_index = df_colesterol.set_index(\"nombre\")\n",
    "print(df_new_index)"
   ]
  },
  {
   "cell_type": "markdown",
   "metadata": {},
   "source": [
    "# acceder al elementos del dataframe    "
   ]
  },
  {
   "cell_type": "code",
   "execution_count": 63,
   "metadata": {},
   "outputs": [
    {
     "name": "stdout",
     "output_type": "stream",
     "text": [
      "\n",
      "Accediendo a elementos específicos:\n",
      "Una fila completa (índice 1):\n",
      "nombre        María\n",
      "edad             45\n",
      "altura         1.65\n",
      "peso             59\n",
      "colesterol      200\n",
      "Name: 1, dtype: object\n",
      "\n",
      "Valor específico (fila 2, columna 'edad'):\n",
      "33\n",
      "\n",
      "Varias filas (2 y 5):\n"
     ]
    }
   ],
   "source": [
    "print(\"\\nAccediendo a elementos específicos:\")\n",
    "print(\"Una fila completa (índice 1):\")\n",
    "print(df_colesterol.loc[1])\n",
    "\n",
    "print(\"\\nValor específico (fila 2, columna 'edad'):\")\n",
    "print(df_colesterol.loc[2, 'edad'])\n",
    "\n",
    "print(\"\\nVarias filas (2 y 5):\")"
   ]
  },
  {
   "cell_type": "markdown",
   "metadata": {},
   "source": [
    "\n",
    "# Nota: Como tenemos solo 5 filas (índices 0-4), usaremos 2 y 4 en su lugar\n"
   ]
  },
  {
   "cell_type": "code",
   "execution_count": 64,
   "metadata": {},
   "outputs": [
    {
     "name": "stdout",
     "output_type": "stream",
     "text": [
      "\n",
      "Varias filas (2 y 5):\n",
      "   nombre  edad  altura  peso  colesterol\n",
      "2  Carlos    33    1.81    85         156\n",
      "4   Pedro    51    1.78    77         221\n"
     ]
    }
   ],
   "source": [
    "print(\"\\nVarias filas (2 y 5):\")\n",
    "print(df_colesterol.loc[[2, 4]])"
   ]
  },
  {
   "cell_type": "markdown",
   "metadata": {},
   "source": [
    "# Añadir nueva columna"
   ]
  },
  {
   "cell_type": "code",
   "execution_count": 65,
   "metadata": {},
   "outputs": [
    {
     "name": "stdout",
     "output_type": "stream",
     "text": [
      "\n",
      "Añadiendo una nueva columna:\n",
      "   nombre  edad  altura  peso  colesterol  diabetes\n",
      "0    Juan    22    1.72    68         182     False\n",
      "1   María    45    1.65    59         200     False\n",
      "2  Carlos    33    1.81    85         156      True\n",
      "3     Ana    27    1.70    63         175     False\n",
      "4   Pedro    51    1.78    77         221      True\n"
     ]
    }
   ],
   "source": [
    "print(\"\\nAñadiendo una nueva columna:\")\n",
    "df_colesterol['diabetes'] = pd.Series([False, False, True, False, True])\n",
    "print(df_colesterol)"
   ]
  },
  {
   "cell_type": "markdown",
   "metadata": {},
   "source": [
    "# eliminar columna"
   ]
  },
  {
   "cell_type": "code",
   "execution_count": null,
   "metadata": {},
   "outputs": [],
   "source": [
    "\n",
    "print(\"\\nEliminando una columna:\")\n",
    "df_colesterol.pop(\"diabetes\")\n",
    "print(df_colesterol)"
   ]
  },
  {
   "cell_type": "markdown",
   "metadata": {},
   "source": [
    "# adicionar filas\n"
   ]
  },
  {
   "cell_type": "code",
   "execution_count": 67,
   "metadata": {},
   "outputs": [
    {
     "name": "stdout",
     "output_type": "stream",
     "text": [
      "\n",
      "Añadiendo una nueva fila:\n",
      "   nombre  edad  altura  peso  colesterol diabetes\n",
      "0    Juan    22    1.72    68         182    False\n",
      "1   María    45    1.65    59         200    False\n",
      "2  Carlos    33    1.81    85         156     True\n",
      "3     Ana    27    1.70    63         175    False\n",
      "4   Pedro    51    1.78    77         221     True\n",
      "5   Laura    29    1.68    65         165      NaN\n"
     ]
    }
   ],
   "source": [
    "print(\"\\nAñadiendo una nueva fila:\")\n",
    "# En versiones recientes de pandas, append está obsoleto, usamos concat\n",
    "nueva_fila = pd.DataFrame({'nombre': ['Laura'], 'edad': [29], 'altura': [1.68], 'peso': [65], 'colesterol': [165]})\n",
    "df_con_nueva_fila = pd.concat([df_colesterol, nueva_fila], ignore_index=True)\n",
    "print(df_con_nueva_fila)\n"
   ]
  },
  {
   "cell_type": "markdown",
   "metadata": {},
   "source": [
    "# Eliminar filas\n"
   ]
  },
  {
   "cell_type": "code",
   "execution_count": 68,
   "metadata": {},
   "outputs": [
    {
     "name": "stdout",
     "output_type": "stream",
     "text": [
      "\n",
      "Eliminando una fila (índice 1):\n",
      "   nombre  edad  altura  peso  colesterol  diabetes\n",
      "0    Juan    22    1.72    68         182     False\n",
      "2  Carlos    33    1.81    85         156      True\n",
      "3     Ana    27    1.70    63         175     False\n",
      "4   Pedro    51    1.78    77         221      True\n"
     ]
    }
   ],
   "source": [
    "print(\"\\nEliminando una fila (índice 1):\")\n",
    "df_sin_fila = df_colesterol.drop(1)\n",
    "print(df_sin_fila)"
   ]
  },
  {
   "cell_type": "markdown",
   "metadata": {},
   "source": [
    "# odenar un dataset"
   ]
  },
  {
   "cell_type": "code",
   "execution_count": null,
   "metadata": {},
   "outputs": [],
   "source": [
    "print(\"\\nOrdenando un DataFrame por una columna:\")\n",
    "print(\"Ordenado por edad (ascendente):\")\n",
    "print(df_colesterol.sort_values('edad'))\n",
    "\n",
    "print(\"\\nOrdenado por edad (descendente):\")\n",
    "print(df_colesterol.sort_values('edad', ascending=False))\n",
    "\n",
    "print(\"\\nOrdenado por múltiples columnas (primero altura, luego edad):\")\n",
    "print(df_colesterol.sort_values(['altura', 'edad']))"
   ]
  },
  {
   "cell_type": "markdown",
   "metadata": {},
   "source": [
    "24 Ejemplo de ardillas"
   ]
  },
  {
   "cell_type": "code",
   "execution_count": 69,
   "metadata": {},
   "outputs": [
    {
     "name": "stdout",
     "output_type": "stream",
     "text": [
      "\n",
      "Simulación de Censo de Ardillas:\n",
      "  Unique Squirrel ID       Age Primary Fur Color      Location  Eating  \\\n",
      "0                 1A     Adult              Gray  Ground Plane    True   \n",
      "1                 2B  Juvenile          Cinnamon  Above Ground   False   \n",
      "2                 3C     Adult             Black  Ground Plane    True   \n",
      "3                 4D     Adult              Gray  Above Ground   False   \n",
      "4                 5E  Juvenile          Cinnamon  Ground Plane    True   \n",
      "\n",
      "   Running  \n",
      "0    False  \n",
      "1     True  \n",
      "2    False  \n",
      "3     True  \n",
      "4    False  \n"
     ]
    }
   ],
   "source": [
    "## 24. Ejercicios adicionales\n",
    "\n",
    "# Censo de ardillas de Central Park (Simulado)\n",
    "print(\"\\nSimulación de Censo de Ardillas:\")\n",
    "# Creando un DataFrame de muestra para simular el censo de ardillas\n",
    "squirrel_data = {\n",
    "    'Unique Squirrel ID': ['1A', '2B', '3C', '4D', '5E'],\n",
    "    'Age': ['Adult', 'Juvenile', 'Adult', 'Adult', 'Juvenile'],\n",
    "    'Primary Fur Color': ['Gray', 'Cinnamon', 'Black', 'Gray', 'Cinnamon'],\n",
    "    'Location': ['Ground Plane', 'Above Ground', 'Ground Plane', 'Above Ground', 'Ground Plane'],\n",
    "    'Eating': [True, False, True, False, True],\n",
    "    'Running': [False, True, False, True, False]\n",
    "}\n",
    "df_squirrels = pd.DataFrame(squirrel_data)\n",
    "print(df_squirrels)\n"
   ]
  },
  {
   "cell_type": "markdown",
   "metadata": {},
   "source": [
    "# Ejercicio: Contar ardillas por color de pelaje\n"
   ]
  },
  {
   "cell_type": "code",
   "execution_count": 70,
   "metadata": {},
   "outputs": [
    {
     "name": "stdout",
     "output_type": "stream",
     "text": [
      "\n",
      "Conteo de ardillas por color de pelaje:\n",
      "Primary Fur Color\n",
      "Gray        2\n",
      "Cinnamon    2\n",
      "Black       1\n",
      "Name: count, dtype: int64\n"
     ]
    }
   ],
   "source": [
    "print(\"\\nConteo de ardillas por color de pelaje:\")\n",
    "print(df_squirrels['Primary Fur Color'].value_counts())"
   ]
  }
 ],
 "metadata": {
  "kernelspec": {
   "display_name": "test",
   "language": "python",
   "name": "python3"
  },
  "language_info": {
   "codemirror_mode": {
    "name": "ipython",
    "version": 3
   },
   "file_extension": ".py",
   "mimetype": "text/x-python",
   "name": "python",
   "nbconvert_exporter": "python",
   "pygments_lexer": "ipython3",
   "version": "3.13.2"
  }
 },
 "nbformat": 4,
 "nbformat_minor": 2
}
