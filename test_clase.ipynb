import pandas as pd
from c.AppServ.www.proyecto_agro_narino.proyecto_agro_narino_1.clase import s_demo

# test_clase.ipynb


def test_modulo_operation():
    # Expected result of s_demo % 2
    expected_result = pd.Series([1, 0, 1, 0, 1, 0, 1, 0, 1, 0])
    
    # Perform modulo operation
    result = s_demo % 2
    
    # Assert equality
    assert result.equals(expected_result), f"Expected {expected_result}, but got {result}"

# Run the test
test_modulo_operation()